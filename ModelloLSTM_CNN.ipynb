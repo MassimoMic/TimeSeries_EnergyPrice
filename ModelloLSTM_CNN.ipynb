{
  "nbformat": 4,
  "nbformat_minor": 0,
  "metadata": {
    "colab": {
      "provenance": []
    },
    "kernelspec": {
      "name": "python3",
      "display_name": "Python 3"
    },
    "accelerator": "TPU"
  },
  "cells": [
    {
      "cell_type": "code",
      "metadata": {
        "id": "RRSOSFqFaMph"
      },
      "source": [
        "import pandas as pd"
      ],
      "execution_count": null,
      "outputs": []
    },
    {
      "cell_type": "code",
      "metadata": {
        "id": "8IAEQg0AW4Is"
      },
      "source": [
        "from numpy import split\n",
        "from numpy import array\n",
        "from math import sqrt\n",
        "from sklearn.metrics import mean_squared_error\n",
        "from keras.models import Sequential\n",
        "from keras.layers import Dense,Flatten,LSTM,RepeatVector,TimeDistributed"
      ],
      "execution_count": null,
      "outputs": []
    },
    {
      "cell_type": "code",
      "metadata": {
        "id": "bz4grOWveGXy"
      },
      "source": [
        "from keras.layers.convolutional import Conv1D\n",
        "from keras.layers.convolutional import MaxPooling1D"
      ],
      "execution_count": null,
      "outputs": []
    },
    {
      "cell_type": "code",
      "metadata": {
        "id": "ZwJfBxOTlN0k"
      },
      "source": [
        "train, test = serie_2004_2007[1:-6600], serie_2004_2007[-6600:]"
      ],
      "execution_count": null,
      "outputs": []
    },
    {
      "cell_type": "code",
      "metadata": {
        "id": "LfQPgXO0otJR",
        "colab": {
          "base_uri": "https://localhost:8080/",
          "height": 272
        },
        "outputId": "b644e259-703c-472d-efe5-1cc488138a0a"
      },
      "source": [
        "print(test)"
      ],
      "execution_count": null,
      "outputs": [
        {
          "output_type": "stream",
          "text": [
            "                           PUN   CNOR   CSUD   NORD   SARD    SICI    SUD\n",
            "data_ora_series                                                          \n",
            "2007-04-01 00:00:00  75.245325  75.01  75.01  75.01  75.01   78.53  75.01\n",
            "2007-04-01 01:00:00  47.573304  47.57  47.57  47.57  47.57   47.62  47.57\n",
            "2007-04-01 02:00:00  34.700000  34.70  34.70  34.70  34.70   34.70  34.70\n",
            "2007-04-01 03:00:00  34.690000  34.69  34.69  34.69  34.69   34.69  34.69\n",
            "2007-04-01 04:00:00  28.700000  28.70  28.70  28.70  28.70   28.70  28.70\n",
            "...                        ...    ...    ...    ...    ...     ...    ...\n",
            "2007-12-31 19:00:00  88.503358  83.65  83.65  83.65  83.65  145.87  83.65\n",
            "2007-12-31 20:00:00  88.787896  83.94  83.94  83.94  83.94  145.87  83.94\n",
            "2007-12-31 21:00:00  80.000012  79.94  79.94  79.93  79.94   80.76  79.94\n",
            "2007-12-31 22:00:00  73.944644  73.94  73.94  73.94  73.94   74.00  73.94\n",
            "2007-12-31 23:00:00  67.940000  67.94  67.94  67.94  67.94   67.94  67.94\n",
            "\n",
            "[6600 rows x 7 columns]\n"
          ],
          "name": "stdout"
        }
      ]
    },
    {
      "cell_type": "code",
      "metadata": {
        "id": "k3CGESBYuPbG",
        "colab": {
          "base_uri": "https://localhost:8080/",
          "height": 153
        },
        "outputId": "9c26cbe3-69c1-4953-b989-b6b3d3d65b01"
      },
      "source": [
        "train.count()"
      ],
      "execution_count": null,
      "outputs": [
        {
          "output_type": "execute_result",
          "data": {
            "text/plain": [
              "PUN     26276\n",
              "CNOR    26276\n",
              "CSUD    26276\n",
              "NORD    26276\n",
              "SARD    26276\n",
              "SICI    26276\n",
              "SUD     26276\n",
              "dtype: int64"
            ]
          },
          "metadata": {
            "tags": []
          },
          "execution_count": 106
        }
      ]
    },
    {
      "cell_type": "code",
      "metadata": {
        "id": "VM_i3D3W5-fv",
        "colab": {
          "base_uri": "https://localhost:8080/",
          "height": 34
        },
        "outputId": "65d6fb34-4932-43eb-89a6-52c1c198c361"
      },
      "source": [
        "len(train)"
      ],
      "execution_count": null,
      "outputs": [
        {
          "output_type": "execute_result",
          "data": {
            "text/plain": [
              "26276"
            ]
          },
          "metadata": {
            "tags": []
          },
          "execution_count": 104
        }
      ]
    },
    {
      "cell_type": "code",
      "metadata": {
        "id": "0RHt22t-qIaf",
        "colab": {
          "base_uri": "https://localhost:8080/",
          "height": 297
        },
        "outputId": "fd23ab1c-8309-4284-854a-386e8ab50fb2"
      },
      "source": [
        "serie_2004_2007.PUN.resample('D').sum().plot(title='PUN somma per giorno')\n",
        "plt.tight_layout()\n",
        "plt.show()"
      ],
      "execution_count": null,
      "outputs": [
        {
          "output_type": "display_data",
          "data": {
            "image/png": "[encoded data removed]",
            "text/plain": [
              "<Figure size 432x288 with 1 Axes>"
            ]
          },
          "metadata": {
            "tags": []
          }
        }
      ]
    },
    {
      "cell_type": "code",
      "metadata": {
        "id": "yGpJ7daPuM1G",
        "colab": {
          "base_uri": "https://localhost:8080/",
          "height": 297
        },
        "outputId": "653fa0fe-a500-4319-8ef2-5b2d5b2d077b"
      },
      "source": [
        "serie_2004_2007.PUN.resample('D').mean().plot(title='PUN media per giorno',color='red')\n",
        "plt.tight_layout()\n",
        "plt.show()"
      ],
      "execution_count": null,
      "outputs": [
        {
          "output_type": "display_data",
          "data": {
            "image/png": "[encoded data removed]",
            "text/plain": [
              "<Figure size 432x288 with 1 Axes>"
            ]
          },
          "metadata": {
            "tags": []
          }
        }
      ]
    },
    {
      "cell_type": "code",
      "metadata": {
        "id": "0D1VHEWO5cTT",
        "colab": {
          "base_uri": "https://localhost:8080/",
          "height": 309
        },
        "outputId": "1db62188-7b33-42a5-ca07-4112db6eb131"
      },
      "source": [
        "r2 = serie_2004_2007.PUN.resample('D').agg(['mean', 'std'])\n",
        "r2.plot(subplots = True, title='PUN resampled per giorno', color='red')\n",
        "plt.show()"
      ],
      "execution_count": null,
      "outputs": [
        {
          "output_type": "display_data",
          "data": {
            "image/png": "[encoded data removed]",
            "text/plain": [
              "<Figure size 432x288 with 2 Axes>"
            ]
          },
          "metadata": {
            "tags": []
          }
        }
      ]
    },
    {
      "cell_type": "code",
      "metadata": {
        "id": "Tde1KCMB51y0",
        "colab": {
          "base_uri": "https://localhost:8080/",
          "height": 265
        },
        "outputId": "9da38751-4f6b-47d8-cc34-a93896cf9bd7"
      },
      "source": [
        "# Correlations among columns\n",
        "plt.matshow(serie_2004_2007.corr(method='spearman'),vmax=1,vmin=-1,cmap='PRGn')\n",
        "plt.title('senza resampling', size=15)\n",
        "plt.colorbar()\n",
        "plt.show()"
      ],
      "execution_count": null,
      "outputs": [
        {
          "output_type": "display_data",
          "data": {
            "image/png": "[encoded data removed]",
            "text/plain": [
              "<Figure size 288x288 with 2 Axes>"
            ]
          },
          "metadata": {
            "tags": []
          }
        }
      ]
    },
    {
      "cell_type": "code",
      "metadata": {
        "id": "4qtpPYDU8uRK",
        "colab": {
          "base_uri": "https://localhost:8080/",
          "height": 34
        },
        "outputId": "dadeee0a-c8a1-42d8-be2c-d09fcebfa3f7"
      },
      "source": [
        "type(serie_2004_2007)"
      ],
      "execution_count": null,
      "outputs": [
        {
          "output_type": "execute_result",
          "data": {
            "text/plain": [
              "pandas.core.frame.DataFrame"
            ]
          },
          "metadata": {
            "tags": []
          },
          "execution_count": 60
        }
      ]
    },
    {
      "cell_type": "code",
      "metadata": {
        "id": "nrtWo5KN8y3H"
      },
      "source": [
        "n_vars = serie_2004_2007.shape[1]"
      ],
      "execution_count": null,
      "outputs": []
    },
    {
      "cell_type": "code",
      "metadata": {
        "id": "Baqda_fu885n",
        "colab": {
          "base_uri": "https://localhost:8080/",
          "height": 34
        },
        "outputId": "236e5ff8-bf8c-4b14-835e-bf7ef138609a"
      },
      "source": [
        "print(n_vars)"
      ],
      "execution_count": null,
      "outputs": [
        {
          "output_type": "stream",
          "text": [
            "7\n"
          ],
          "name": "stdout"
        }
      ]
    },
    {
      "cell_type": "code",
      "metadata": {
        "id": "gLKt4k_cBJ_V"
      },
      "source": [
        "values = serie_2004_2007.values"
      ],
      "execution_count": null,
      "outputs": []
    },
    {
      "cell_type": "code",
      "metadata": {
        "id": "i2_B04_eBN5S"
      },
      "source": [
        "type(values) #numpy.ndarray"
      ],
      "execution_count": null,
      "outputs": []
    },
    {
      "cell_type": "code",
      "metadata": {
        "id": "E7WV6abBCDK_"
      },
      "source": [
        "values = values.astype('float32')"
      ],
      "execution_count": null,
      "outputs": []
    },
    {
      "cell_type": "code",
      "metadata": {
        "id": "o8v6t6gTCneT"
      },
      "source": [
        "import os\n",
        "from scipy.stats import randint\n",
        "import seaborn as sns # used for plot interactive graph.\n",
        "from sklearn.model_selection import train_test_split # to split the data into two parts\n",
        "from sklearn.model_selection import KFold # use for cross validation\n",
        "from sklearn.preprocessing import StandardScaler # for normalization\n",
        "from sklearn.preprocessing import MinMaxScaler\n",
        "from sklearn.pipeline import Pipeline # pipeline making\n",
        "from sklearn.model_selection import cross_val_score\n",
        "from sklearn.feature_selection import SelectFromModel\n",
        "from sklearn import metrics # for the check the error and accuracy of the model\n",
        "from sklearn.metrics import mean_squared_error,r2_score\n",
        "\n",
        "## for Deep-learing:\n",
        "import keras\n",
        "from keras.layers import Dense\n",
        "from keras.models import Sequential\n",
        "from keras.utils import to_categorical\n",
        "from keras.optimizers import SGD\n",
        "from keras.callbacks import EarlyStopping\n",
        "from keras.utils import np_utils\n",
        "import itertools\n",
        "from keras.layers import LSTM\n",
        "from keras.layers.convolutional import Conv1D\n",
        "from keras.layers.convolutional import MaxPooling1D\n",
        "from keras.layers import Dropout\n"
      ],
      "execution_count": null,
      "outputs": []
    },
    {
      "cell_type": "code",
      "metadata": {
        "id": "e-zH2dOaCRhW"
      },
      "source": [
        "# normalize features\n",
        "scaler = MinMaxScaler(feature_range=(0, 1))"
      ],
      "execution_count": null,
      "outputs": []
    },
    {
      "cell_type": "code",
      "metadata": {
        "id": "CmxX4tagC9PT"
      },
      "source": [],
      "execution_count": null,
      "outputs": []
    },
    {
      "cell_type": "code",
      "metadata": {
        "id": "sM7ots3uBm_T"
      },
      "source": [
        "def series_to_supervised(data, n_in=1, n_out=1, dropnan=True):\n",
        "\tn_vars = 1 if type(data) is list else data.shape[1]\n",
        "\tdff = pd.DataFrame(data)\n",
        "\tcols, names = list(), list()\n",
        "\t# input sequence (t-n, ... t-1)\n",
        "\tfor i in range(n_in, 0, -1):\n",
        "\t\tcols.append(dff.shift(i))\n",
        "\t\tnames += [('var%d(t-%d)' % (j+1, i)) for j in range(n_vars)]\n",
        "\t# forecast sequence (t, t+1, ... t+n)\n",
        "\tfor i in range(0, n_out):\n",
        "\t\tcols.append(dff.shift(-i))\n",
        "\t\tif i == 0:\n",
        "\t\t\tnames += [('var%d(t)' % (j+1)) for j in range(n_vars)]\n",
        "\t\telse:\n",
        "\t\t\tnames += [('var%d(t+%d)' % (j+1, i)) for j in range(n_vars)]\n",
        "\t# put it all together\n",
        "\tagg = pd.concat(cols, axis=1)\n",
        "\tagg.columns = names\n",
        "\t# drop rows with NaN values\n",
        "\tif dropnan:\n",
        "\t\tagg.dropna(inplace=True)\n",
        "\treturn agg"
      ],
      "execution_count": null,
      "outputs": []
    },
    {
      "cell_type": "code",
      "metadata": {
        "id": "TRTy-xdIC_zl"
      },
      "source": [
        "scaled = scaler.fit_transform(values)"
      ],
      "execution_count": null,
      "outputs": []
    },
    {
      "cell_type": "code",
      "metadata": {
        "id": "6-0WDbseDGDI"
      },
      "source": [
        "reframed = series_to_supervised(scaled, 1, 1)"
      ],
      "execution_count": null,
      "outputs": []
    },
    {
      "cell_type": "code",
      "metadata": {
        "id": "POXl9RPnDIHZ",
        "colab": {
          "base_uri": "https://localhost:8080/",
          "height": 255
        },
        "outputId": "c777ecb8-3547-49cb-f205-1c36721ce64d"
      },
      "source": [
        "print(reframed)"
      ],
      "execution_count": null,
      "outputs": [
        {
          "output_type": "stream",
          "text": [
            "       var1(t-1)  var2(t-1)  var3(t-1)  ...   var5(t)  var6(t)   var7(t)\n",
            "1       0.086479   0.083350   0.083350  ...  0.124375  0.06050  0.087500\n",
            "2       0.091029   0.087500   0.087500  ...  0.124375  0.06102  0.080650\n",
            "3       0.084685   0.080650   0.080650  ...  0.124375  0.06088  0.077725\n",
            "4       0.081926   0.077725   0.077725  ...  0.124375  0.06000  0.075000\n",
            "5       0.079299   0.075000   0.075000  ...  0.124375  0.06042  0.075525\n",
            "...          ...        ...        ...  ...       ...      ...       ...\n",
            "32872   0.231463   0.209125   0.209125  ...  0.226769  0.29174  0.209125\n",
            "32873   0.231614   0.209125   0.209125  ...  0.227806  0.29174  0.209850\n",
            "32874   0.232368   0.209850   0.209850  ...  0.213510  0.16152  0.199850\n",
            "32875   0.209081   0.199850   0.199850  ...  0.192066  0.14800  0.184850\n",
            "32876   0.193035   0.184850   0.184850  ...  0.170622  0.13588  0.169850\n",
            "\n",
            "[32876 rows x 14 columns]\n"
          ],
          "name": "stdout"
        }
      ]
    },
    {
      "cell_type": "code",
      "metadata": {
        "id": "hEpobgZ5D2Ha"
      },
      "source": [
        "# per ora consideriamo solo il PUN\n",
        "reframed.drop(reframed.columns[[8,9,10,11,12,13]], axis=1, inplace=True)\n",
        "print(reframed.head())"
      ],
      "execution_count": null,
      "outputs": []
    },
    {
      "cell_type": "code",
      "metadata": {
        "id": "iaCqOWinEX08"
      },
      "source": [
        "values = reframed.values"
      ],
      "execution_count": null,
      "outputs": []
    },
    {
      "cell_type": "code",
      "metadata": {
        "id": "Ip0iAhZqE0eh"
      },
      "source": [
        "n_train_time = 365*24"
      ],
      "execution_count": null,
      "outputs": []
    },
    {
      "cell_type": "code",
      "metadata": {
        "id": "_Qva8U2DFAZk"
      },
      "source": [
        "train = values[:n_train_time, :]"
      ],
      "execution_count": null,
      "outputs": []
    },
    {
      "cell_type": "code",
      "metadata": {
        "id": "gR8v4ghWFGAt"
      },
      "source": [
        "test = values[n_train_time:, :]"
      ],
      "execution_count": null,
      "outputs": []
    },
    {
      "cell_type": "code",
      "metadata": {
        "id": "vhDHPQngFL7D"
      },
      "source": [
        "# split into input and outputs\n",
        "train_X, train_y = train[:, :-1], train[:, -1]\n",
        "test_X, test_y = test[:, :-1], test[:, -1]"
      ],
      "execution_count": null,
      "outputs": []
    },
    {
      "cell_type": "code",
      "metadata": {
        "id": "Y1yEWvQsFUo2"
      },
      "source": [
        "# reshape input to be 3D [samples, timesteps, features]"
      ],
      "execution_count": null,
      "outputs": []
    },
    {
      "cell_type": "code",
      "metadata": {
        "id": "cFnUyjXJFX6R"
      },
      "source": [
        "train_X = train_X.reshape((train_X.shape[0], 1, train_X.shape[1]))"
      ],
      "execution_count": null,
      "outputs": []
    },
    {
      "cell_type": "code",
      "metadata": {
        "id": "opS_5tuEFbo3"
      },
      "source": [
        "test_X = test_X.reshape((test_X.shape[0], 1, test_X.shape[1]))"
      ],
      "execution_count": null,
      "outputs": []
    },
    {
      "cell_type": "code",
      "metadata": {
        "id": "ev1PnVGsFgdH",
        "colab": {
          "base_uri": "https://localhost:8080/",
          "height": 34
        },
        "outputId": "28ec9093-c2c8-4613-e245-ac2204651ee6"
      },
      "source": [
        "print(train_X.shape, train_y.shape, test_X.shape, test_y.shape)"
      ],
      "execution_count": null,
      "outputs": [
        {
          "output_type": "stream",
          "text": [
            "(8760, 1, 7) (8760,) (24116, 1, 7) (24116,)\n"
          ],
          "name": "stdout"
        }
      ]
    },
    {
      "cell_type": "code",
      "metadata": {
        "id": "v9wNZ9bthR1d"
      },
      "source": [
        "n_timesteps = train_X[1]\n",
        "n_features = train_X[2]"
      ],
      "execution_count": null,
      "outputs": []
    },
    {
      "cell_type": "code",
      "metadata": {
        "id": "Kk4SNJXciUB_"
      },
      "source": [
        " print(train_y.shape[1])"
      ],
      "execution_count": null,
      "outputs": []
    },
    {
      "cell_type": "code",
      "metadata": {
        "id": "QQJf2Ruyg0MV"
      },
      "source": [
        "from keras.layers import RepeatVector\n",
        "from keras.layers import TimeDistributed\n"
      ],
      "execution_count": null,
      "outputs": []
    },
    {
      "cell_type": "code",
      "metadata": {
        "id": "wMkFBDnSF0-Z"
      },
      "source": [
        "model = Sequential()\n",
        "model.add(LSTM(200, return_sequences=True,input_shape=(train_X.shape[1], train_X.shape[2])))\n",
        "model.add(Dropout(0.2))\n",
        "model.add(LSTM(200))\n",
        "model.add(Dropout(0.2))\n",
        "model.add(Dense(1))"
      ],
      "execution_count": null,
      "outputs": []
    },
    {
      "cell_type": "code",
      "metadata": {
        "id": "JTRtKQxgGMYr"
      },
      "source": [
        "model.compile(loss='mean_squared_error', optimizer='adam')"
      ],
      "execution_count": null,
      "outputs": []
    },
    {
      "cell_type": "code",
      "metadata": {
        "id": "OVfRSztKGalE",
        "colab": {
          "base_uri": "https://localhost:8080/",
          "height": 323
        },
        "outputId": "dc28bca6-875d-42bd-b5d0-52d5789eed9d"
      },
      "source": [
        "model.summary()"
      ],
      "execution_count": null,
      "outputs": [
        {
          "output_type": "stream",
          "text": [
            "Model: \"sequential_5\"\n",
            "_________________________________________________________________\n",
            "Layer (type)                 Output Shape              Param #   \n",
            "=================================================================\n",
            "lstm_6 (LSTM)                (None, 1, 200)            166400    \n",
            "_________________________________________________________________\n",
            "dropout_3 (Dropout)          (None, 1, 200)            0         \n",
            "_________________________________________________________________\n",
            "lstm_7 (LSTM)                (None, 200)               320800    \n",
            "_________________________________________________________________\n",
            "dropout_4 (Dropout)          (None, 200)               0         \n",
            "_________________________________________________________________\n",
            "dense_2 (Dense)              (None, 1)                 201       \n",
            "=================================================================\n",
            "Total params: 487,401\n",
            "Trainable params: 487,401\n",
            "Non-trainable params: 0\n",
            "_________________________________________________________________\n"
          ],
          "name": "stdout"
        }
      ]
    },
    {
      "cell_type": "code",
      "metadata": {
        "id": "hY2aN-yGGiOr",
        "colab": {
          "base_uri": "https://localhost:8080/",
          "height": 714
        },
        "outputId": "393f6a6c-8e8d-4cd8-e46b-ed22d06ed103"
      },
      "source": [
        "# fit network\n",
        "history = model.fit(train_X, train_y, epochs=20, batch_size=16, validation_data=(test_X, test_y), verbose=2, shuffle=False)"
      ],
      "execution_count": null,
      "outputs": [
        {
          "output_type": "stream",
          "text": [
            "Train on 8760 samples, validate on 24116 samples\n",
            "Epoch 1/20\n",
            " - 16s - loss: 0.0019 - val_loss: 0.0020\n",
            "Epoch 2/20\n",
            " - 14s - loss: 0.0016 - val_loss: 0.0021\n",
            "Epoch 3/20\n",
            " - 14s - loss: 0.0015 - val_loss: 0.0022\n",
            "Epoch 4/20\n",
            " - 14s - loss: 0.0015 - val_loss: 0.0021\n",
            "Epoch 5/20\n",
            " - 14s - loss: 0.0015 - val_loss: 0.0022\n",
            "Epoch 6/20\n",
            " - 14s - loss: 0.0015 - val_loss: 0.0022\n",
            "Epoch 7/20\n",
            " - 14s - loss: 0.0015 - val_loss: 0.0024\n",
            "Epoch 8/20\n",
            " - 14s - loss: 0.0015 - val_loss: 0.0023\n",
            "Epoch 9/20\n",
            " - 14s - loss: 0.0015 - val_loss: 0.0023\n",
            "Epoch 10/20\n",
            " - 14s - loss: 0.0015 - val_loss: 0.0023\n",
            "Epoch 11/20\n",
            " - 14s - loss: 0.0015 - val_loss: 0.0024\n",
            "Epoch 12/20\n",
            " - 14s - loss: 0.0015 - val_loss: 0.0023\n",
            "Epoch 13/20\n",
            " - 14s - loss: 0.0015 - val_loss: 0.0023\n",
            "Epoch 14/20\n",
            " - 14s - loss: 0.0015 - val_loss: 0.0023\n",
            "Epoch 15/20\n",
            " - 14s - loss: 0.0015 - val_loss: 0.0023\n",
            "Epoch 16/20\n",
            " - 14s - loss: 0.0015 - val_loss: 0.0024\n",
            "Epoch 17/20\n",
            " - 13s - loss: 0.0015 - val_loss: 0.0024\n",
            "Epoch 18/20\n",
            " - 13s - loss: 0.0015 - val_loss: 0.0023\n",
            "Epoch 19/20\n",
            " - 14s - loss: 0.0015 - val_loss: 0.0023\n",
            "Epoch 20/20\n",
            " - 13s - loss: 0.0015 - val_loss: 0.0023\n"
          ],
          "name": "stdout"
        }
      ]
    }
  ]
}